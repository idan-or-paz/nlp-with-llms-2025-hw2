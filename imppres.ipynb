{
 "cells": [
  {
   "cell_type": "markdown",
   "id": "a5b8c418",
   "metadata": {},
   "source": [
    "# Exploring the ImpPres Dataset\n",
    "\n",
    "The https://huggingface.co/datasets/facebook/imppres dataset was introduced in *\"Are Natural Language Inference Models IMPPRESsive? Learning IMPlicature and PRESupposition\"*, Jeretivc et al, ACL 2020, https://www.aclweb.org/anthology/2020.acl-main.768\" to investigate the pragmatic inference capabilities of NLI models.\n",
    "\n",
    "It was created by synthesizing pairs (premise, hypothesis) according to different templates predicted by pragmatic analysis, for presuppositions triggered by different linguistic forms and implicatures of different forms.  Each sample is grouped in \"paradigms\" (groups of related pairs) that test the predicted relation between premise and hypothesis according to linguistic transformations.  For example, given a pair (premise, presupposition), the paradigm will include (negated-premise, presupposition), (question-premise, presupposition), (condition-premise, presupposition), (premise, negated-presupposition) etc.  If a model detects that the relation (premise, presupposition) is a form of \"presupposition entailment\", then it should consistently label the other members of the group according to linguistic predictions.\n",
    "\n",
    "\n",
    "\n"
   ]
  },
  {
   "cell_type": "code",
   "execution_count": 45,
   "id": "c0227b7d",
   "metadata": {},
   "outputs": [],
   "source": [
    "from datasets import load_dataset\n",
    "sections = ['implicature_connectives', 'implicature_gradable_adjective', 'implicature_gradable_verb', 'implicature_modals', 'implicature_numerals_10_100', 'implicature_numerals_2_3', 'implicature_quantifiers', 'presupposition_all_n_presupposition', 'presupposition_both_presupposition', 'presupposition_change_of_state', 'presupposition_cleft_existence', 'presupposition_cleft_uniqueness', 'presupposition_only_presupposition', 'presupposition_possessed_definites_existence', 'presupposition_possessed_definites_uniqueness', 'presupposition_question_presupposition']\n",
    "\n",
    "\n",
    "imp_connectives = load_dataset(\"facebook/imppres\", sections[0])\n"
   ]
  },
  {
   "cell_type": "code",
   "execution_count": 39,
   "id": "653292e9",
   "metadata": {},
   "outputs": [
    {
     "data": {
      "text/plain": [
       "DatasetDict({\n",
       "    connectives: Dataset({\n",
       "        features: ['premise', 'hypothesis', 'gold_label_log', 'gold_label_prag', 'spec_relation', 'item_type', 'trigger', 'lexemes'],\n",
       "        num_rows: 1200\n",
       "    })\n",
       "})"
      ]
     },
     "execution_count": 39,
     "metadata": {},
     "output_type": "execute_result"
    }
   ],
   "source": [
    "imp_connectives"
   ]
  },
  {
   "cell_type": "code",
   "execution_count": 40,
   "id": "af2406d6",
   "metadata": {},
   "outputs": [
    {
     "data": {
      "text/plain": [
       "{'premise': 'These computers or dresses would irritate Veronica.',\n",
       " 'hypothesis': \"These computers and dresses wouldn't both irritate Veronica.\",\n",
       " 'gold_label_log': 1,\n",
       " 'gold_label_prag': 0,\n",
       " 'spec_relation': 'implicature_PtoN',\n",
       " 'item_type': 'target',\n",
       " 'trigger': 'connective',\n",
       " 'lexemes': 'or - and'}"
      ]
     },
     "execution_count": 40,
     "metadata": {},
     "output_type": "execute_result"
    }
   ],
   "source": [
    "imp_connectives['connectives'][0]"
   ]
  },
  {
   "cell_type": "code",
   "execution_count": 41,
   "id": "5a66c85a",
   "metadata": {},
   "outputs": [],
   "source": [
    "pcos = load_dataset(\"facebook/imppres\", \"presupposition_change_of_state\")"
   ]
  },
  {
   "cell_type": "code",
   "execution_count": 42,
   "id": "a273020f",
   "metadata": {},
   "outputs": [
    {
     "data": {
      "text/plain": [
       "DatasetDict({\n",
       "    change_of_state: Dataset({\n",
       "        features: ['premise', 'hypothesis', 'trigger', 'trigger1', 'trigger2', 'presupposition', 'gold_label', 'UID', 'pairID', 'paradigmID'],\n",
       "        num_rows: 1900\n",
       "    })\n",
       "})"
      ]
     },
     "execution_count": 42,
     "metadata": {},
     "output_type": "execute_result"
    }
   ],
   "source": [
    "pcos"
   ]
  },
  {
   "cell_type": "code",
   "execution_count": 25,
   "id": "c78f2797",
   "metadata": {},
   "outputs": [
    {
     "data": {
      "text/plain": [
       "{'premise': 'The guest had found John.',\n",
       " 'hypothesis': 'John used to be in an unknown location.',\n",
       " 'trigger': 'unembedded',\n",
       " 'trigger1': 'Not_In_Example',\n",
       " 'trigger2': 'Not_In_Example',\n",
       " 'presupposition': 'positive',\n",
       " 'gold_label': 0,\n",
       " 'UID': 'change_of_state',\n",
       " 'pairID': '0e',\n",
       " 'paradigmID': 0}"
      ]
     },
     "execution_count": 25,
     "metadata": {},
     "output_type": "execute_result"
    }
   ],
   "source": [
    "pcos['change_of_state'][0]"
   ]
  },
  {
   "cell_type": "code",
   "execution_count": 26,
   "id": "8e6ddd37",
   "metadata": {},
   "outputs": [
    {
     "name": "stdout",
     "output_type": "stream",
     "text": [
      "[0, 1, 2, 3, 4, 5, 6, 7, 8, 9, 10, 11, 12, 13, 14, 15, 16, 17, 18, 19, 20, 21, 22, 23, 24, 25, 26, 27, 28, 29, 30, 31, 32, 33, 34, 35, 36, 37, 38, 39, 40, 41, 42, 43, 44, 45, 46, 47, 48, 49, 50, 51, 52, 53, 54, 55, 56, 57, 58, 59, 60, 61, 62, 63, 64, 65, 66, 67, 68, 69, 70, 71, 72, 73, 74, 75, 76, 77, 78, 79, 80, 81, 82, 83, 84, 85, 86, 87, 88, 89, 90, 91, 92, 93, 94, 95, 96, 97, 98, 99]\n"
     ]
    }
   ],
   "source": [
    "print(list(set([s['paradigmID'] for s in pcos['change_of_state']])))"
   ]
  },
  {
   "cell_type": "code",
   "execution_count": 27,
   "id": "02f9ae46",
   "metadata": {},
   "outputs": [],
   "source": [
    "def get_paradigm(dataset, paradigm_id):\n",
    "    return [s for s in dataset if s['paradigmID'] == paradigm_id]"
   ]
  },
  {
   "cell_type": "code",
   "execution_count": 28,
   "id": "28e5fea6",
   "metadata": {},
   "outputs": [
    {
     "data": {
      "text/plain": [
       "[{'premise': 'The guest had found John.',\n",
       "  'hypothesis': 'John used to be in an unknown location.',\n",
       "  'trigger': 'unembedded',\n",
       "  'trigger1': 'Not_In_Example',\n",
       "  'trigger2': 'Not_In_Example',\n",
       "  'presupposition': 'positive',\n",
       "  'gold_label': 0,\n",
       "  'UID': 'change_of_state',\n",
       "  'pairID': '0e',\n",
       "  'paradigmID': 0},\n",
       " {'premise': 'The guest had found John.',\n",
       "  'hypothesis': \"John didn't used to be in an unknown location.\",\n",
       "  'trigger': 'unembedded',\n",
       "  'trigger1': 'Not_In_Example',\n",
       "  'trigger2': 'Not_In_Example',\n",
       "  'presupposition': 'negated',\n",
       "  'gold_label': 2,\n",
       "  'UID': 'change_of_state',\n",
       "  'pairID': '1c',\n",
       "  'paradigmID': 0},\n",
       " {'premise': 'The guest had found John.',\n",
       "  'hypothesis': 'Peter used to be in an unknown location.',\n",
       "  'trigger': 'unembedded',\n",
       "  'trigger1': 'Not_In_Example',\n",
       "  'trigger2': 'Not_In_Example',\n",
       "  'presupposition': 'neutral',\n",
       "  'gold_label': 1,\n",
       "  'UID': 'change_of_state',\n",
       "  'pairID': '2n',\n",
       "  'paradigmID': 0},\n",
       " {'premise': \"The guest hadn't found John.\",\n",
       "  'hypothesis': 'John used to be in an unknown location.',\n",
       "  'trigger': 'negated',\n",
       "  'trigger1': 'Not_In_Example',\n",
       "  'trigger2': 'Not_In_Example',\n",
       "  'presupposition': 'positive',\n",
       "  'gold_label': 0,\n",
       "  'UID': 'change_of_state',\n",
       "  'pairID': '3e',\n",
       "  'paradigmID': 0},\n",
       " {'premise': \"The guest hadn't found John.\",\n",
       "  'hypothesis': \"John didn't used to be in an unknown location.\",\n",
       "  'trigger': 'negated',\n",
       "  'trigger1': 'Not_In_Example',\n",
       "  'trigger2': 'Not_In_Example',\n",
       "  'presupposition': 'negated',\n",
       "  'gold_label': 2,\n",
       "  'UID': 'change_of_state',\n",
       "  'pairID': '4c',\n",
       "  'paradigmID': 0},\n",
       " {'premise': \"The guest hadn't found John.\",\n",
       "  'hypothesis': 'Peter used to be in an unknown location.',\n",
       "  'trigger': 'negated',\n",
       "  'trigger1': 'Not_In_Example',\n",
       "  'trigger2': 'Not_In_Example',\n",
       "  'presupposition': 'neutral',\n",
       "  'gold_label': 1,\n",
       "  'UID': 'change_of_state',\n",
       "  'pairID': '5n',\n",
       "  'paradigmID': 0},\n",
       " {'premise': 'Had the guest found John?',\n",
       "  'hypothesis': 'John used to be in an unknown location.',\n",
       "  'trigger': 'interrogative',\n",
       "  'trigger1': 'Not_In_Example',\n",
       "  'trigger2': 'Not_In_Example',\n",
       "  'presupposition': 'positive',\n",
       "  'gold_label': 0,\n",
       "  'UID': 'change_of_state',\n",
       "  'pairID': '6e',\n",
       "  'paradigmID': 0},\n",
       " {'premise': 'Had the guest found John?',\n",
       "  'hypothesis': \"John didn't used to be in an unknown location.\",\n",
       "  'trigger': 'interrogative',\n",
       "  'trigger1': 'Not_In_Example',\n",
       "  'trigger2': 'Not_In_Example',\n",
       "  'presupposition': 'negated',\n",
       "  'gold_label': 2,\n",
       "  'UID': 'change_of_state',\n",
       "  'pairID': '7c',\n",
       "  'paradigmID': 0},\n",
       " {'premise': 'Had the guest found John?',\n",
       "  'hypothesis': 'Peter used to be in an unknown location.',\n",
       "  'trigger': 'interrogative',\n",
       "  'trigger1': 'Not_In_Example',\n",
       "  'trigger2': 'Not_In_Example',\n",
       "  'presupposition': 'neutral',\n",
       "  'gold_label': 1,\n",
       "  'UID': 'change_of_state',\n",
       "  'pairID': '8n',\n",
       "  'paradigmID': 0},\n",
       " {'premise': 'The guest might have found John.',\n",
       "  'hypothesis': 'John used to be in an unknown location.',\n",
       "  'trigger': 'modal',\n",
       "  'trigger1': 'Not_In_Example',\n",
       "  'trigger2': 'Not_In_Example',\n",
       "  'presupposition': 'positive',\n",
       "  'gold_label': 0,\n",
       "  'UID': 'change_of_state',\n",
       "  'pairID': '9e',\n",
       "  'paradigmID': 0},\n",
       " {'premise': 'The guest might have found John.',\n",
       "  'hypothesis': \"John didn't used to be in an unknown location.\",\n",
       "  'trigger': 'modal',\n",
       "  'trigger1': 'Not_In_Example',\n",
       "  'trigger2': 'Not_In_Example',\n",
       "  'presupposition': 'negated',\n",
       "  'gold_label': 2,\n",
       "  'UID': 'change_of_state',\n",
       "  'pairID': '10c',\n",
       "  'paradigmID': 0},\n",
       " {'premise': 'The guest might have found John.',\n",
       "  'hypothesis': 'Peter used to be in an unknown location.',\n",
       "  'trigger': 'modal',\n",
       "  'trigger1': 'Not_In_Example',\n",
       "  'trigger2': 'Not_In_Example',\n",
       "  'presupposition': 'neutral',\n",
       "  'gold_label': 1,\n",
       "  'UID': 'change_of_state',\n",
       "  'pairID': '11n',\n",
       "  'paradigmID': 0},\n",
       " {'premise': \"If the guest had found John, it's okay.\",\n",
       "  'hypothesis': 'John used to be in an unknown location.',\n",
       "  'trigger': 'conditional',\n",
       "  'trigger1': 'Not_In_Example',\n",
       "  'trigger2': 'Not_In_Example',\n",
       "  'presupposition': 'positive',\n",
       "  'gold_label': 0,\n",
       "  'UID': 'change_of_state',\n",
       "  'pairID': '12e',\n",
       "  'paradigmID': 0},\n",
       " {'premise': \"If the guest had found John, it's okay.\",\n",
       "  'hypothesis': \"John didn't used to be in an unknown location.\",\n",
       "  'trigger': 'conditional',\n",
       "  'trigger1': 'Not_In_Example',\n",
       "  'trigger2': 'Not_In_Example',\n",
       "  'presupposition': 'negated',\n",
       "  'gold_label': 2,\n",
       "  'UID': 'change_of_state',\n",
       "  'pairID': '13c',\n",
       "  'paradigmID': 0},\n",
       " {'premise': \"If the guest had found John, it's okay.\",\n",
       "  'hypothesis': 'Peter used to be in an unknown location.',\n",
       "  'trigger': 'conditional',\n",
       "  'trigger1': 'Not_In_Example',\n",
       "  'trigger2': 'Not_In_Example',\n",
       "  'presupposition': 'neutral',\n",
       "  'gold_label': 1,\n",
       "  'UID': 'change_of_state',\n",
       "  'pairID': '14n',\n",
       "  'paradigmID': 0},\n",
       " {'premise': \"The guest hadn't found John.\",\n",
       "  'hypothesis': 'The guest had found John.',\n",
       "  'trigger': 'Not_In_Example',\n",
       "  'trigger1': 'negated',\n",
       "  'trigger2': 'unembedded',\n",
       "  'presupposition': 'Not_In_Example',\n",
       "  'gold_label': 2,\n",
       "  'UID': 'change_of_state',\n",
       "  'pairID': '15c',\n",
       "  'paradigmID': 0},\n",
       " {'premise': 'Had the guest found John?',\n",
       "  'hypothesis': 'The guest had found John.',\n",
       "  'trigger': 'Not_In_Example',\n",
       "  'trigger1': 'interrogative',\n",
       "  'trigger2': 'unembedded',\n",
       "  'presupposition': 'Not_In_Example',\n",
       "  'gold_label': 1,\n",
       "  'UID': 'change_of_state',\n",
       "  'pairID': '16n',\n",
       "  'paradigmID': 0},\n",
       " {'premise': 'The guest might have found John.',\n",
       "  'hypothesis': 'The guest had found John.',\n",
       "  'trigger': 'Not_In_Example',\n",
       "  'trigger1': 'modal',\n",
       "  'trigger2': 'unembedded',\n",
       "  'presupposition': 'Not_In_Example',\n",
       "  'gold_label': 1,\n",
       "  'UID': 'change_of_state',\n",
       "  'pairID': '17n',\n",
       "  'paradigmID': 0},\n",
       " {'premise': \"If the guest had found John, it's okay.\",\n",
       "  'hypothesis': 'The guest had found John.',\n",
       "  'trigger': 'Not_In_Example',\n",
       "  'trigger1': 'conditional',\n",
       "  'trigger2': 'unembedded',\n",
       "  'presupposition': 'Not_In_Example',\n",
       "  'gold_label': 1,\n",
       "  'UID': 'change_of_state',\n",
       "  'pairID': '18n',\n",
       "  'paradigmID': 0}]"
      ]
     },
     "execution_count": 28,
     "metadata": {},
     "output_type": "execute_result"
    }
   ],
   "source": [
    "get_paradigm(pcos['change_of_state'], 0)"
   ]
  },
  {
   "cell_type": "code",
   "execution_count": 29,
   "id": "782499a9",
   "metadata": {},
   "outputs": [],
   "source": [
    "pop = load_dataset(\"facebook/imppres\", \"presupposition_only_presupposition\")"
   ]
  },
  {
   "cell_type": "code",
   "execution_count": 30,
   "id": "2744d4c4",
   "metadata": {},
   "outputs": [
    {
     "data": {
      "text/plain": [
       "DatasetDict({\n",
       "    only_presupposition: Dataset({\n",
       "        features: ['premise', 'hypothesis', 'trigger', 'trigger1', 'trigger2', 'presupposition', 'gold_label', 'UID', 'pairID', 'paradigmID'],\n",
       "        num_rows: 1900\n",
       "    })\n",
       "})"
      ]
     },
     "execution_count": 30,
     "metadata": {},
     "output_type": "execute_result"
    }
   ],
   "source": [
    "pop"
   ]
  },
  {
   "cell_type": "code",
   "execution_count": 31,
   "id": "bfb1b19b",
   "metadata": {},
   "outputs": [
    {
     "data": {
      "text/plain": [
       "DatasetDict({\n",
       "    change_of_state: Dataset({\n",
       "        features: ['premise', 'hypothesis', 'trigger', 'trigger1', 'trigger2', 'presupposition', 'gold_label', 'UID', 'pairID', 'paradigmID'],\n",
       "        num_rows: 1900\n",
       "    })\n",
       "})"
      ]
     },
     "execution_count": 31,
     "metadata": {},
     "output_type": "execute_result"
    }
   ],
   "source": [
    "pcos"
   ]
  },
  {
   "cell_type": "markdown",
   "id": "a68984aa",
   "metadata": {},
   "source": [
    "## Unify the Datasets\n",
    "\n",
    "Your task is to create a new dataset that \n",
    "* Has all the lines from the presupposition sections of ImprPres \n",
    "    * ['presupposition_all_n_presupposition', 'presupposition_both_presupposition', 'presupposition_change_of_state', 'presupposition_cleft_existence', 'presupposition_cleft_uniqueness', 'presupposition_only_presupposition', 'presupposition_possessed_definites_existence', 'presupposition_possessed_definites_uniqueness', 'presupposition_question_presupposition']\n",
    "* Has one more column which is the name of the section:\n",
    "    * ['premise', 'hypothesis', 'trigger', 'trigger1', 'trigger2', 'presupposition', 'gold_label', 'UID', 'pairID', 'paradigmID', 'section']"
   ]
  },
  {
   "cell_type": "markdown",
   "id": "d145cd5f",
   "metadata": {},
   "source": [
    "## Task 2.1"
   ]
  },
  {
   "cell_type": "code",
   "execution_count": 46,
   "id": "af73a582",
   "metadata": {},
   "outputs": [
    {
     "name": "stdout",
     "output_type": "stream",
     "text": [
      "Loading presupposition_all_n_presupposition...\n",
      "Loading presupposition_both_presupposition...\n",
      "Loading presupposition_change_of_state...\n",
      "Loading presupposition_cleft_existence...\n",
      "Loading presupposition_cleft_uniqueness...\n",
      "Loading presupposition_only_presupposition...\n",
      "Loading presupposition_possessed_definites_existence...\n",
      "Loading presupposition_possessed_definites_uniqueness...\n",
      "Loading presupposition_question_presupposition...\n",
      "\n",
      "Total samples in unified dataset: 17100\n",
      "Columns in unified dataset: ['premise', 'hypothesis', 'trigger', 'trigger1', 'trigger2', 'presupposition', 'gold_label', 'UID', 'pairID', 'paradigmID', 'section']\n",
      "\n",
      "First sample from each section:\n",
      "\n",
      "presupposition_all_n_presupposition: 1900 samples\n",
      "Example: All ten guys that proved to boast were divorcing. -> There are exactly ten guys that proved to boast.\n",
      "Label: 0\n",
      "\n",
      "presupposition_both_presupposition: 1900 samples\n",
      "Example: Both gloves that aren't loosening do fray. -> There are exactly two gloves that aren't loosening\n",
      "Label: 0\n",
      "\n",
      "presupposition_change_of_state: 1900 samples\n",
      "Example: The guest had found John. -> John used to be in an unknown location.\n",
      "Label: 0\n",
      "\n",
      "presupposition_cleft_existence: 1900 samples\n",
      "Example: It is Douglas that did work with Tanya. -> Someone did work with Tanya\n",
      "Label: 0\n",
      "\n",
      "presupposition_cleft_uniqueness: 1900 samples\n",
      "Example: It is Sherry that does dislike Allison. -> Exactly one person does dislike Allison.\n",
      "Label: 0\n",
      "\n",
      "presupposition_only_presupposition: 1900 samples\n",
      "Example: Colleen was only biking to that library. -> Colleen was biking to that library.\n",
      "Label: 0\n",
      "\n",
      "presupposition_possessed_definites_existence: 1900 samples\n",
      "Example: Rose's ice did stun the children. -> Rose has ice.\n",
      "Label: 0\n",
      "\n",
      "presupposition_possessed_definites_uniqueness: 1900 samples\n",
      "Example: Jacqueline's bank that didn't cooperate did manage to benefit. -> Jacqueline has exactly one bank that didn't cooperate.\n",
      "Label: 0\n",
      "\n",
      "presupposition_question_presupposition: 1900 samples\n",
      "Example: Teachers conceal when Amy has come here. -> Amy has come here\n",
      "Label: 0\n"
     ]
    }
   ],
   "source": [
    "from datasets import concatenate_datasets\n",
    "\n",
    "# Load all presupposition sections\n",
    "presupposition_sections = [\n",
    "    'presupposition_all_n_presupposition', \n",
    "    'presupposition_both_presupposition', \n",
    "    'presupposition_change_of_state', \n",
    "    'presupposition_cleft_existence', \n",
    "    'presupposition_cleft_uniqueness', \n",
    "    'presupposition_only_presupposition', \n",
    "    'presupposition_possessed_definites_existence', \n",
    "    'presupposition_possessed_definites_uniqueness', \n",
    "    'presupposition_question_presupposition'\n",
    "]\n",
    "\n",
    "# Load and prepare each dataset with section information\n",
    "dataset_list = []\n",
    "\n",
    "for section_name in presupposition_sections:\n",
    "    print(f\"Loading {section_name}...\")\n",
    "    dataset = load_dataset(\"facebook/imppres\", section_name)\n",
    "    \n",
    "    # Get the actual split name (it varies by section)\n",
    "    split_name = list(dataset.keys())[0]\n",
    "    data = dataset[split_name]\n",
    "    \n",
    "    # Add section column using datasets map function\n",
    "    data_with_section = data.map(lambda x: {**x, 'section': section_name})\n",
    "    dataset_list.append(data_with_section)\n",
    "\n",
    "# Concatenate all datasets into one unified dataset\n",
    "unified_dataset = concatenate_datasets(dataset_list)\n",
    "\n",
    "print(f\"\\nTotal samples in unified dataset: {len(unified_dataset)}\")\n",
    "print(f\"Columns in unified dataset: {unified_dataset.column_names}\")\n",
    "\n",
    "# Show first sample from each section\n",
    "print(\"\\nFirst sample from each section:\")\n",
    "for section_name in presupposition_sections:\n",
    "    section_data = unified_dataset.filter(lambda x: x['section'] == section_name)\n",
    "    if len(section_data) > 0:\n",
    "        print(f\"\\n{section_name}: {len(section_data)} samples\")\n",
    "        first_sample = section_data[0]\n",
    "        print(f\"Example: {first_sample['premise']} -> {first_sample['hypothesis']}\")\n",
    "        print(f\"Label: {first_sample['gold_label']}\")\n"
   ]
  }
 ],
 "metadata": {
  "kernelspec": {
   "display_name": ".venv",
   "language": "python",
   "name": "python3"
  },
  "language_info": {
   "codemirror_mode": {
    "name": "ipython",
    "version": 3
   },
   "file_extension": ".py",
   "mimetype": "text/x-python",
   "name": "python",
   "nbconvert_exporter": "python",
   "pygments_lexer": "ipython3",
   "version": "3.11.11"
  }
 },
 "nbformat": 4,
 "nbformat_minor": 5
}
